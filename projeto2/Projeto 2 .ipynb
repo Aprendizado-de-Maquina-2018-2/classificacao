{
 "cells": [
  {
   "cell_type": "code",
   "execution_count": 1,
   "metadata": {},
   "outputs": [],
   "source": [
    "import pandas as pd\n",
    "import numpy as np\n",
    "import sklearn\n",
    "import seaborn as sns\n",
    "import matplotlib.pyplot as plt\n",
    "\n",
    "%matplotlib inline"
   ]
  },
  {
   "cell_type": "markdown",
   "metadata": {},
   "source": [
    "# Importando DataSet"
   ]
  },
  {
   "cell_type": "code",
   "execution_count": 2,
   "metadata": {},
   "outputs": [
    {
     "data": {
      "text/html": [
       "<div>\n",
       "<style scoped>\n",
       "    .dataframe tbody tr th:only-of-type {\n",
       "        vertical-align: middle;\n",
       "    }\n",
       "\n",
       "    .dataframe tbody tr th {\n",
       "        vertical-align: top;\n",
       "    }\n",
       "\n",
       "    .dataframe thead th {\n",
       "        text-align: right;\n",
       "    }\n",
       "</style>\n",
       "<table border=\"1\" class=\"dataframe\">\n",
       "  <thead>\n",
       "    <tr style=\"text-align: right;\">\n",
       "      <th></th>\n",
       "      <th>Year Type</th>\n",
       "      <th>Year</th>\n",
       "      <th>Organization Group Code</th>\n",
       "      <th>Organization Group</th>\n",
       "      <th>Department Code</th>\n",
       "      <th>Department</th>\n",
       "      <th>Union Code</th>\n",
       "      <th>Union</th>\n",
       "      <th>Job Family Code</th>\n",
       "      <th>Job Family</th>\n",
       "      <th>...</th>\n",
       "      <th>Employee Identifier</th>\n",
       "      <th>Salaries</th>\n",
       "      <th>Overtime</th>\n",
       "      <th>Other Salaries</th>\n",
       "      <th>Total Salary</th>\n",
       "      <th>Retirement</th>\n",
       "      <th>Health/Dental</th>\n",
       "      <th>Other Benefits</th>\n",
       "      <th>Total Benefits</th>\n",
       "      <th>Total Compensation</th>\n",
       "    </tr>\n",
       "  </thead>\n",
       "  <tbody>\n",
       "    <tr>\n",
       "      <th>0</th>\n",
       "      <td>Fiscal</td>\n",
       "      <td>2016</td>\n",
       "      <td>1</td>\n",
       "      <td>Public Protection</td>\n",
       "      <td>DAT</td>\n",
       "      <td>District Attorney</td>\n",
       "      <td>311.0</td>\n",
       "      <td>Municipal Attorneys' Association</td>\n",
       "      <td>8100</td>\n",
       "      <td>Legal &amp; Court</td>\n",
       "      <td>...</td>\n",
       "      <td>49919</td>\n",
       "      <td>114473.16</td>\n",
       "      <td>0.0</td>\n",
       "      <td>1500.00</td>\n",
       "      <td>115973.16</td>\n",
       "      <td>21025.98</td>\n",
       "      <td>13068.80</td>\n",
       "      <td>9368.71</td>\n",
       "      <td>43463.49</td>\n",
       "      <td>159436.65</td>\n",
       "    </tr>\n",
       "    <tr>\n",
       "      <th>1</th>\n",
       "      <td>Calendar</td>\n",
       "      <td>2013</td>\n",
       "      <td>5</td>\n",
       "      <td>Culture &amp; Recreation</td>\n",
       "      <td>ART</td>\n",
       "      <td>Arts Commission</td>\n",
       "      <td>790.0</td>\n",
       "      <td>SEIU - Miscellaneous, Local 1021</td>\n",
       "      <td>1800</td>\n",
       "      <td>Budget, Admn &amp; Stats Analysis</td>\n",
       "      <td>...</td>\n",
       "      <td>1225</td>\n",
       "      <td>84077.11</td>\n",
       "      <td>0.0</td>\n",
       "      <td>0.00</td>\n",
       "      <td>84077.11</td>\n",
       "      <td>16587.30</td>\n",
       "      <td>12457.73</td>\n",
       "      <td>6931.91</td>\n",
       "      <td>35976.94</td>\n",
       "      <td>120054.05</td>\n",
       "    </tr>\n",
       "    <tr>\n",
       "      <th>2</th>\n",
       "      <td>Calendar</td>\n",
       "      <td>2015</td>\n",
       "      <td>4</td>\n",
       "      <td>Community Health</td>\n",
       "      <td>DPH</td>\n",
       "      <td>Public Health</td>\n",
       "      <td>535.0</td>\n",
       "      <td>SEIU - Human Services, Local 1021</td>\n",
       "      <td>2900</td>\n",
       "      <td>Human Services</td>\n",
       "      <td>...</td>\n",
       "      <td>34873</td>\n",
       "      <td>9980.17</td>\n",
       "      <td>0.0</td>\n",
       "      <td>798.43</td>\n",
       "      <td>10778.60</td>\n",
       "      <td>0.00</td>\n",
       "      <td>2254.93</td>\n",
       "      <td>835.11</td>\n",
       "      <td>3090.04</td>\n",
       "      <td>13868.64</td>\n",
       "    </tr>\n",
       "    <tr>\n",
       "      <th>3</th>\n",
       "      <td>Fiscal</td>\n",
       "      <td>2015</td>\n",
       "      <td>4</td>\n",
       "      <td>Community Health</td>\n",
       "      <td>DPH</td>\n",
       "      <td>Public Health</td>\n",
       "      <td>250.0</td>\n",
       "      <td>SEIU - Health Workers, Local 1021</td>\n",
       "      <td>2200</td>\n",
       "      <td>Medical &amp; Dental</td>\n",
       "      <td>...</td>\n",
       "      <td>51145</td>\n",
       "      <td>2873.41</td>\n",
       "      <td>0.0</td>\n",
       "      <td>0.00</td>\n",
       "      <td>2873.41</td>\n",
       "      <td>0.00</td>\n",
       "      <td>622.63</td>\n",
       "      <td>222.46</td>\n",
       "      <td>845.09</td>\n",
       "      <td>3718.50</td>\n",
       "    </tr>\n",
       "    <tr>\n",
       "      <th>4</th>\n",
       "      <td>Fiscal</td>\n",
       "      <td>2014</td>\n",
       "      <td>5</td>\n",
       "      <td>Culture &amp; Recreation</td>\n",
       "      <td>REC</td>\n",
       "      <td>Recreation and Park Commission</td>\n",
       "      <td>790.0</td>\n",
       "      <td>SEIU - Miscellaneous, Local 1021</td>\n",
       "      <td>3200</td>\n",
       "      <td>Recreation</td>\n",
       "      <td>...</td>\n",
       "      <td>48705</td>\n",
       "      <td>6701.85</td>\n",
       "      <td>0.0</td>\n",
       "      <td>176.70</td>\n",
       "      <td>6878.55</td>\n",
       "      <td>0.00</td>\n",
       "      <td>2711.66</td>\n",
       "      <td>538.43</td>\n",
       "      <td>3250.09</td>\n",
       "      <td>10128.64</td>\n",
       "    </tr>\n",
       "  </tbody>\n",
       "</table>\n",
       "<p>5 rows × 22 columns</p>\n",
       "</div>"
      ],
      "text/plain": [
       "  Year Type  Year  Organization Group Code    Organization Group  \\\n",
       "0    Fiscal  2016                        1     Public Protection   \n",
       "1  Calendar  2013                        5  Culture & Recreation   \n",
       "2  Calendar  2015                        4      Community Health   \n",
       "3    Fiscal  2015                        4      Community Health   \n",
       "4    Fiscal  2014                        5  Culture & Recreation   \n",
       "\n",
       "  Department Code                      Department  Union Code  \\\n",
       "0             DAT               District Attorney       311.0   \n",
       "1             ART                 Arts Commission       790.0   \n",
       "2             DPH                   Public Health       535.0   \n",
       "3             DPH                   Public Health       250.0   \n",
       "4             REC  Recreation and Park Commission       790.0   \n",
       "\n",
       "                               Union Job Family Code  \\\n",
       "0   Municipal Attorneys' Association            8100   \n",
       "1   SEIU - Miscellaneous, Local 1021            1800   \n",
       "2  SEIU - Human Services, Local 1021            2900   \n",
       "3  SEIU - Health Workers, Local 1021            2200   \n",
       "4   SEIU - Miscellaneous, Local 1021            3200   \n",
       "\n",
       "                      Job Family         ...         Employee Identifier  \\\n",
       "0                  Legal & Court         ...                       49919   \n",
       "1  Budget, Admn & Stats Analysis         ...                        1225   \n",
       "2                 Human Services         ...                       34873   \n",
       "3               Medical & Dental         ...                       51145   \n",
       "4                     Recreation         ...                       48705   \n",
       "\n",
       "    Salaries  Overtime  Other Salaries  Total Salary  Retirement  \\\n",
       "0  114473.16       0.0         1500.00     115973.16    21025.98   \n",
       "1   84077.11       0.0            0.00      84077.11    16587.30   \n",
       "2    9980.17       0.0          798.43      10778.60        0.00   \n",
       "3    2873.41       0.0            0.00       2873.41        0.00   \n",
       "4    6701.85       0.0          176.70       6878.55        0.00   \n",
       "\n",
       "   Health/Dental  Other Benefits  Total Benefits  Total Compensation  \n",
       "0       13068.80         9368.71        43463.49           159436.65  \n",
       "1       12457.73         6931.91        35976.94           120054.05  \n",
       "2        2254.93          835.11         3090.04            13868.64  \n",
       "3         622.63          222.46          845.09             3718.50  \n",
       "4        2711.66          538.43         3250.09            10128.64  \n",
       "\n",
       "[5 rows x 22 columns]"
      ]
     },
     "execution_count": 2,
     "metadata": {},
     "output_type": "execute_result"
    }
   ],
   "source": [
    "dataset = pd.read_csv('Employee_Compensation_SF.csv', sep=',')\n",
    "dataset.head()"
   ]
  },
  {
   "cell_type": "markdown",
   "metadata": {},
   "source": [
    "## Colunas Removidas\n",
    "\n",
    " - 1 Codes - removido por estar representado em outras colunas\n",
    " \n",
    " - 2 Employee Identifier - é um ID da tupla e não faz sentido usá-lo para predições\n",
    " \n",
    " - 3 Colunas relacionadas ao salário total - são valores que somados constituem a variável alvo (Total Compensation).\n",
    " \n",
    " - 4 Colunas relacionadas aos benefícios -são valores que somados constituem a variável alvo (Total Compensation)."
   ]
  },
  {
   "cell_type": "code",
   "execution_count": 3,
   "metadata": {
    "scrolled": true
   },
   "outputs": [
    {
     "data": {
      "text/html": [
       "<div>\n",
       "<style scoped>\n",
       "    .dataframe tbody tr th:only-of-type {\n",
       "        vertical-align: middle;\n",
       "    }\n",
       "\n",
       "    .dataframe tbody tr th {\n",
       "        vertical-align: top;\n",
       "    }\n",
       "\n",
       "    .dataframe thead th {\n",
       "        text-align: right;\n",
       "    }\n",
       "</style>\n",
       "<table border=\"1\" class=\"dataframe\">\n",
       "  <thead>\n",
       "    <tr style=\"text-align: right;\">\n",
       "      <th></th>\n",
       "      <th>Year Type</th>\n",
       "      <th>Year</th>\n",
       "      <th>Organization Group</th>\n",
       "      <th>Department</th>\n",
       "      <th>Union</th>\n",
       "      <th>Job Family</th>\n",
       "      <th>Job</th>\n",
       "      <th>Total Compensation</th>\n",
       "    </tr>\n",
       "  </thead>\n",
       "  <tbody>\n",
       "    <tr>\n",
       "      <th>0</th>\n",
       "      <td>Fiscal</td>\n",
       "      <td>2016</td>\n",
       "      <td>Public Protection</td>\n",
       "      <td>District Attorney</td>\n",
       "      <td>Municipal Attorneys' Association</td>\n",
       "      <td>Legal &amp; Court</td>\n",
       "      <td>Attorney (Civil/Criminal)</td>\n",
       "      <td>159436.65</td>\n",
       "    </tr>\n",
       "    <tr>\n",
       "      <th>1</th>\n",
       "      <td>Calendar</td>\n",
       "      <td>2013</td>\n",
       "      <td>Culture &amp; Recreation</td>\n",
       "      <td>Arts Commission</td>\n",
       "      <td>SEIU - Miscellaneous, Local 1021</td>\n",
       "      <td>Budget, Admn &amp; Stats Analysis</td>\n",
       "      <td>Senior Management Assistant</td>\n",
       "      <td>120054.05</td>\n",
       "    </tr>\n",
       "    <tr>\n",
       "      <th>2</th>\n",
       "      <td>Calendar</td>\n",
       "      <td>2015</td>\n",
       "      <td>Community Health</td>\n",
       "      <td>Public Health</td>\n",
       "      <td>SEIU - Human Services, Local 1021</td>\n",
       "      <td>Human Services</td>\n",
       "      <td>Eligibility Worker</td>\n",
       "      <td>13868.64</td>\n",
       "    </tr>\n",
       "    <tr>\n",
       "      <th>3</th>\n",
       "      <td>Fiscal</td>\n",
       "      <td>2015</td>\n",
       "      <td>Community Health</td>\n",
       "      <td>Public Health</td>\n",
       "      <td>SEIU - Health Workers, Local 1021</td>\n",
       "      <td>Medical &amp; Dental</td>\n",
       "      <td>Dental Aide</td>\n",
       "      <td>3718.50</td>\n",
       "    </tr>\n",
       "    <tr>\n",
       "      <th>4</th>\n",
       "      <td>Fiscal</td>\n",
       "      <td>2014</td>\n",
       "      <td>Culture &amp; Recreation</td>\n",
       "      <td>Recreation and Park Commission</td>\n",
       "      <td>SEIU - Miscellaneous, Local 1021</td>\n",
       "      <td>Recreation</td>\n",
       "      <td>Recreation Leader</td>\n",
       "      <td>10128.64</td>\n",
       "    </tr>\n",
       "  </tbody>\n",
       "</table>\n",
       "</div>"
      ],
      "text/plain": [
       "  Year Type  Year    Organization Group                      Department  \\\n",
       "0    Fiscal  2016     Public Protection               District Attorney   \n",
       "1  Calendar  2013  Culture & Recreation                 Arts Commission   \n",
       "2  Calendar  2015      Community Health                   Public Health   \n",
       "3    Fiscal  2015      Community Health                   Public Health   \n",
       "4    Fiscal  2014  Culture & Recreation  Recreation and Park Commission   \n",
       "\n",
       "                               Union                     Job Family  \\\n",
       "0   Municipal Attorneys' Association                  Legal & Court   \n",
       "1   SEIU - Miscellaneous, Local 1021  Budget, Admn & Stats Analysis   \n",
       "2  SEIU - Human Services, Local 1021                 Human Services   \n",
       "3  SEIU - Health Workers, Local 1021               Medical & Dental   \n",
       "4   SEIU - Miscellaneous, Local 1021                     Recreation   \n",
       "\n",
       "                           Job  Total Compensation  \n",
       "0    Attorney (Civil/Criminal)           159436.65  \n",
       "1  Senior Management Assistant           120054.05  \n",
       "2           Eligibility Worker            13868.64  \n",
       "3                  Dental Aide             3718.50  \n",
       "4            Recreation Leader            10128.64  "
      ]
     },
     "execution_count": 3,
     "metadata": {},
     "output_type": "execute_result"
    }
   ],
   "source": [
    "to_be_removed = [\n",
    "    'Organization Group Code',\n",
    "    'Department Code',\n",
    "    'Union Code',\n",
    "    'Job Family Code',\n",
    "    'Job Code',\n",
    "    'Employee Identifier',\n",
    "    'Retirement',\n",
    "    'Health/Dental',\n",
    "    'Other Benefits',\n",
    "    'Salaries',\n",
    "    'Overtime',\n",
    "    'Other Salaries',\n",
    "    'Total Salary',\n",
    "    'Total Benefits']\n",
    "ds = dataset.drop(to_be_removed,axis=1)\n",
    "ds.head()"
   ]
  },
  {
   "cell_type": "markdown",
   "metadata": {},
   "source": [
    "# Exploring Data"
   ]
  },
  {
   "cell_type": "code",
   "execution_count": 4,
   "metadata": {
    "scrolled": true
   },
   "outputs": [
    {
     "data": {
      "text/plain": [
       "Public Health                             63511\n",
       "Municipal Transportation Agency           42574\n",
       "Human Services                            24041\n",
       "Police                                    23078\n",
       "Recreation and Park Commission            16298\n",
       "Airport Commission                        13682\n",
       "Fire Department                           11761\n",
       "General Services Agency - Public Works    11114\n",
       "Sheriff                                    7557\n",
       "General Services Agency - City Admin       7373\n",
       "PUC Public Utilities Commission            6816\n",
       "Public Library                             6668\n",
       "PUC Water Department                       5910\n",
       "PUC Wastewater Enterprise                  4225\n",
       "Superior Court                             4001\n",
       "PUC Hetch Hetchy                           2980\n",
       "Juvenile Probation                         2396\n",
       "City Attorney                              2372\n",
       "Department of Building Inspection          2280\n",
       "District Attorney                          2169\n",
       "Department of Emergency Management         2094\n",
       "Human Resources                            2066\n",
       "Controller                                 2060\n",
       "General Services Agency - Technology       2053\n",
       "Port                                       2009\n",
       "Fine Arts Museum                           1977\n",
       "Treasurer/Tax Collector                    1935\n",
       "City Planning                              1913\n",
       "Elections                                  1879\n",
       "Assessor/Recorder                          1318\n",
       "Public Defender                            1279\n",
       "Adult Probation                            1228\n",
       "Environment                                1015\n",
       "Board of Supervisors                        895\n",
       "Mayor                                       894\n",
       "Economic and Workforce Development          849\n",
       "Retirement System                           765\n",
       "Child Support Services                      697\n",
       "War Memorial                                642\n",
       "Health Service System                       606\n",
       "Asian Art Museum                            579\n",
       "Children, Youth & Their Families            467\n",
       "Rent Arbitration Board                      325\n",
       "Arts Commission                             308\n",
       "General Fund Unallocated                    300\n",
       "Human Rights Commission                     182\n",
       "Ethics Commission                           140\n",
       "Children and Families Commission            125\n",
       "Department of the Status of Women           111\n",
       "Academy of Sciences                         104\n",
       "Civil Service Commission                     82\n",
       "Board of Appeals                             80\n",
       "Community Investment & Infrastructure        26\n",
       "Law Library                                  16\n",
       "Name: Department, dtype: int64"
      ]
     },
     "execution_count": 4,
     "metadata": {},
     "output_type": "execute_result"
    }
   ],
   "source": [
    "ds['Department'].value_counts()"
   ]
  },
  {
   "cell_type": "code",
   "execution_count": 5,
   "metadata": {
    "scrolled": true
   },
   "outputs": [
    {
     "data": {
      "text/plain": [
       "Nursing                           30278\n",
       "Street Transit                    23964\n",
       "Police Services                   19223\n",
       "Journeyman Trade                  17283\n",
       "Public Service Aide               15549\n",
       "Human Services                    14926\n",
       "Clerical, Secretarial & Steno     13403\n",
       "Fire Services                     11191\n",
       "Management                         9566\n",
       "Housekeeping & Laundry             9479\n",
       "Professional Engineering           8440\n",
       "Recreation                         8308\n",
       "Protection & Apprehension          8176\n",
       "Correction & Detention             7850\n",
       "Budget, Admn & Stats Analysis      7771\n",
       "Information Systems                6621\n",
       "Legal & Court                      6546\n",
       "Payroll, Billing & Accounting      6169\n",
       "Med Therapy & Auxiliary            5773\n",
       "Library                            5366\n",
       "Lab, Pharmacy & Med Techs          4924\n",
       "Personnel                          4210\n",
       "SF Superior Court                  4141\n",
       "Sub-Professional Engineering       3977\n",
       "Semi-Skilled & General Labor       3840\n",
       "Agriculture & Horticulture         3165\n",
       "Supervisory-Labor & Trade          2851\n",
       "Airport Operation                  2565\n",
       "Skilled Labor                      2551\n",
       "Medical & Dental                   2355\n",
       "Community Development              2156\n",
       "Dietary & Food                     2089\n",
       "Purchasing & Storekeeping          1549\n",
       "Construction Inspection            1484\n",
       "Appraisal & Taxation               1362\n",
       "Probation & Parole                 1352\n",
       "Energy & Environment               1219\n",
       "Public Health                      1211\n",
       "Pub Relations & Spec Assts         1147\n",
       "Computer Operatns & Repro Svcs     1117\n",
       "Hospital Administration            1095\n",
       "Public Safety Inspection            940\n",
       "Health & Sanitation Inspection      939\n",
       "Park & Zoo                          816\n",
       "Revenue                             790\n",
       "Museum & Cultural Affairs           528\n",
       "Construction Project Mgmt           495\n",
       "Administrative-DPW/PUC              300\n",
       "Administrative-Labor & Trades       187\n",
       "Emergency Services                  132\n",
       "Property Administration             132\n",
       "Port Operation                       95\n",
       "SF Redevelopment Agency              71\n",
       "Administrative Secretarial           70\n",
       "Administrative & Mgmt (Unrep)        43\n",
       "Name: Job Family, dtype: int64"
      ]
     },
     "execution_count": 5,
     "metadata": {},
     "output_type": "execute_result"
    }
   ],
   "source": [
    "ds['Job Family'].value_counts()"
   ]
  },
  {
   "cell_type": "code",
   "execution_count": 9,
   "metadata": {
    "scrolled": true
   },
   "outputs": [
    {
     "data": {
      "text/plain": [
       "<matplotlib.axes._subplots.AxesSubplot at 0x7f83fb9f6390>"
      ]
     },
     "execution_count": 9,
     "metadata": {},
     "output_type": "execute_result"
    },
    {
     "data": {
      "image/png": "[encoded data removed]",
      "text/plain": [
       "<Figure size 432x288 with 1 Axes>"
      ]
     },
     "metadata": {
      "needs_background": "light"
     },
     "output_type": "display_data"
    }
   ],
   "source": [
    "sns.lineplot(x='Year',y='Total Compensation',hue='Organization Group',data=ds)"
   ]
  },
  {
   "cell_type": "code",
   "execution_count": 10,
   "metadata": {
    "scrolled": true
   },
   "outputs": [
    {
     "data": {
      "text/plain": [
       "<matplotlib.axes._subplots.AxesSubplot at 0x7f83fb8a0390>"
      ]
     },
     "execution_count": 10,
     "metadata": {},
     "output_type": "execute_result"
    },
    {
     "data": {
      "image/png": "[encoded data removed]",
      "text/plain": [
       "<Figure size 432x288 with 1 Axes>"
      ]
     },
     "metadata": {
      "needs_background": "light"
     },
     "output_type": "display_data"
    }
   ],
   "source": [
    "sns.lineplot(x='Year',y='Total Compensation',hue='Job Family',data=ds)"
   ]
  },
  {
   "cell_type": "code",
   "execution_count": 11,
   "metadata": {},
   "outputs": [
    {
     "data": {
      "text/plain": [
       "<matplotlib.axes._subplots.AxesSubplot at 0x7f83fb552ed0>"
      ]
     },
     "execution_count": 11,
     "metadata": {},
     "output_type": "execute_result"
    },
    {
     "data": {
      "image/png": "[encoded data removed]",
      "text/plain": [
       "<Figure size 432x288 with 2 Axes>"
      ]
     },
     "metadata": {
      "needs_background": "light"
     },
     "output_type": "display_data"
    }
   ],
   "source": [
    "sns.heatmap(dataset.corr())"
   ]
  },
  {
   "cell_type": "markdown",
   "metadata": {},
   "source": [
    "## Dropando as observações que possuem algum dado faltando"
   ]
  },
  {
   "cell_type": "code",
   "execution_count": 12,
   "metadata": {},
   "outputs": [
    {
     "data": {
      "text/plain": [
       "(45, 8)"
      ]
     },
     "execution_count": 12,
     "metadata": {},
     "output_type": "execute_result"
    }
   ],
   "source": [
    "ds[ds.isnull().any(axis=1)].shape"
   ]
  },
  {
   "cell_type": "code",
   "execution_count": 13,
   "metadata": {},
   "outputs": [],
   "source": [
    "ds.drop(ds[ds.isnull().any(axis=1)].index, inplace=True)"
   ]
  },
  {
   "cell_type": "code",
   "execution_count": 14,
   "metadata": {},
   "outputs": [
    {
     "data": {
      "text/html": [
       "<div>\n",
       "<style scoped>\n",
       "    .dataframe tbody tr th:only-of-type {\n",
       "        vertical-align: middle;\n",
       "    }\n",
       "\n",
       "    .dataframe tbody tr th {\n",
       "        vertical-align: top;\n",
       "    }\n",
       "\n",
       "    .dataframe thead th {\n",
       "        text-align: right;\n",
       "    }\n",
       "</style>\n",
       "<table border=\"1\" class=\"dataframe\">\n",
       "  <thead>\n",
       "    <tr style=\"text-align: right;\">\n",
       "      <th></th>\n",
       "      <th>Year Type</th>\n",
       "      <th>Year</th>\n",
       "      <th>Organization Group</th>\n",
       "      <th>Department</th>\n",
       "      <th>Union</th>\n",
       "      <th>Job Family</th>\n",
       "      <th>Job</th>\n",
       "      <th>Total Compensation</th>\n",
       "    </tr>\n",
       "  </thead>\n",
       "  <tbody>\n",
       "    <tr>\n",
       "      <th>0</th>\n",
       "      <td>Fiscal</td>\n",
       "      <td>2016</td>\n",
       "      <td>Public Protection</td>\n",
       "      <td>District Attorney</td>\n",
       "      <td>Municipal Attorneys' Association</td>\n",
       "      <td>Legal &amp; Court</td>\n",
       "      <td>Attorney (Civil/Criminal)</td>\n",
       "      <td>159436.65</td>\n",
       "    </tr>\n",
       "    <tr>\n",
       "      <th>1</th>\n",
       "      <td>Calendar</td>\n",
       "      <td>2013</td>\n",
       "      <td>Culture &amp; Recreation</td>\n",
       "      <td>Arts Commission</td>\n",
       "      <td>SEIU - Miscellaneous, Local 1021</td>\n",
       "      <td>Budget, Admn &amp; Stats Analysis</td>\n",
       "      <td>Senior Management Assistant</td>\n",
       "      <td>120054.05</td>\n",
       "    </tr>\n",
       "    <tr>\n",
       "      <th>2</th>\n",
       "      <td>Calendar</td>\n",
       "      <td>2015</td>\n",
       "      <td>Community Health</td>\n",
       "      <td>Public Health</td>\n",
       "      <td>SEIU - Human Services, Local 1021</td>\n",
       "      <td>Human Services</td>\n",
       "      <td>Eligibility Worker</td>\n",
       "      <td>13868.64</td>\n",
       "    </tr>\n",
       "    <tr>\n",
       "      <th>3</th>\n",
       "      <td>Fiscal</td>\n",
       "      <td>2015</td>\n",
       "      <td>Community Health</td>\n",
       "      <td>Public Health</td>\n",
       "      <td>SEIU - Health Workers, Local 1021</td>\n",
       "      <td>Medical &amp; Dental</td>\n",
       "      <td>Dental Aide</td>\n",
       "      <td>3718.50</td>\n",
       "    </tr>\n",
       "    <tr>\n",
       "      <th>4</th>\n",
       "      <td>Fiscal</td>\n",
       "      <td>2014</td>\n",
       "      <td>Culture &amp; Recreation</td>\n",
       "      <td>Recreation and Park Commission</td>\n",
       "      <td>SEIU - Miscellaneous, Local 1021</td>\n",
       "      <td>Recreation</td>\n",
       "      <td>Recreation Leader</td>\n",
       "      <td>10128.64</td>\n",
       "    </tr>\n",
       "  </tbody>\n",
       "</table>\n",
       "</div>"
      ],
      "text/plain": [
       "  Year Type  Year    Organization Group                      Department  \\\n",
       "0    Fiscal  2016     Public Protection               District Attorney   \n",
       "1  Calendar  2013  Culture & Recreation                 Arts Commission   \n",
       "2  Calendar  2015      Community Health                   Public Health   \n",
       "3    Fiscal  2015      Community Health                   Public Health   \n",
       "4    Fiscal  2014  Culture & Recreation  Recreation and Park Commission   \n",
       "\n",
       "                               Union                     Job Family  \\\n",
       "0   Municipal Attorneys' Association                  Legal & Court   \n",
       "1   SEIU - Miscellaneous, Local 1021  Budget, Admn & Stats Analysis   \n",
       "2  SEIU - Human Services, Local 1021                 Human Services   \n",
       "3  SEIU - Health Workers, Local 1021               Medical & Dental   \n",
       "4   SEIU - Miscellaneous, Local 1021                     Recreation   \n",
       "\n",
       "                           Job  Total Compensation  \n",
       "0    Attorney (Civil/Criminal)           159436.65  \n",
       "1  Senior Management Assistant           120054.05  \n",
       "2           Eligibility Worker            13868.64  \n",
       "3                  Dental Aide             3718.50  \n",
       "4            Recreation Leader            10128.64  "
      ]
     },
     "execution_count": 14,
     "metadata": {},
     "output_type": "execute_result"
    }
   ],
   "source": [
    "ds.head()"
   ]
  },
  {
   "cell_type": "code",
   "execution_count": 15,
   "metadata": {
    "scrolled": true
   },
   "outputs": [
    {
     "name": "stdout",
     "output_type": "stream",
     "text": [
      "(1136, 55)\n"
     ]
    }
   ],
   "source": [
    "print(\n",
    "    len(np.unique(ds['Job'])),\n",
    "    len(np.unique(ds['Job Family']))\n",
    ")"
   ]
  },
  {
   "cell_type": "code",
   "execution_count": 16,
   "metadata": {},
   "outputs": [],
   "source": [
    "def transform_string_boolen_to_int(x):\n",
    "    if x == 'Fiscal':\n",
    "        retorno = 1\n",
    "    elif x == 'Calendar':\n",
    "        retorno = 0\n",
    "    else:\n",
    "        retorno = x\n",
    "    return retorno"
   ]
  },
  {
   "cell_type": "code",
   "execution_count": 17,
   "metadata": {
    "scrolled": false
   },
   "outputs": [
    {
     "data": {
      "text/html": [
       "<div>\n",
       "<style scoped>\n",
       "    .dataframe tbody tr th:only-of-type {\n",
       "        vertical-align: middle;\n",
       "    }\n",
       "\n",
       "    .dataframe tbody tr th {\n",
       "        vertical-align: top;\n",
       "    }\n",
       "\n",
       "    .dataframe thead th {\n",
       "        text-align: right;\n",
       "    }\n",
       "</style>\n",
       "<table border=\"1\" class=\"dataframe\">\n",
       "  <thead>\n",
       "    <tr style=\"text-align: right;\">\n",
       "      <th></th>\n",
       "      <th>Year Type</th>\n",
       "      <th>Year</th>\n",
       "      <th>Total Compensation</th>\n",
       "      <th>Job_Account Clerk</th>\n",
       "      <th>Job_Accountant I</th>\n",
       "      <th>Job_Accountant II</th>\n",
       "      <th>Job_Accountant II (OCII)</th>\n",
       "      <th>Job_Accountant III</th>\n",
       "      <th>Job_Accountant III (OCII)</th>\n",
       "      <th>Job_Accountant IV</th>\n",
       "      <th>...</th>\n",
       "      <th>Union_Stationary Engineers, Local 39</th>\n",
       "      <th>Union_Teamsters - Miscellaneous, Local 856</th>\n",
       "      <th>Union_Teamsters - Supervising Nurses, Local 856</th>\n",
       "      <th>Union_Teamsters, Local 853</th>\n",
       "      <th>Union_Theatrical and Stage Employees, Local 16</th>\n",
       "      <th>Union_Transport Workers - Auto Svc Workers, Local 250-A</th>\n",
       "      <th>Union_Transport Workers - Fare Inspectors, Local 250-A</th>\n",
       "      <th>Union_Transport Workers - Miscellaneous, Local 250-A</th>\n",
       "      <th>Union_Transport Workers - Transit Operators, Local 250-A</th>\n",
       "      <th>Union_Transportation Workers, Local 200</th>\n",
       "    </tr>\n",
       "  </thead>\n",
       "  <tbody>\n",
       "    <tr>\n",
       "      <th>0</th>\n",
       "      <td>Fiscal</td>\n",
       "      <td>2016</td>\n",
       "      <td>159436.65</td>\n",
       "      <td>0</td>\n",
       "      <td>0</td>\n",
       "      <td>0</td>\n",
       "      <td>0</td>\n",
       "      <td>0</td>\n",
       "      <td>0</td>\n",
       "      <td>0</td>\n",
       "      <td>...</td>\n",
       "      <td>0</td>\n",
       "      <td>0</td>\n",
       "      <td>0</td>\n",
       "      <td>0</td>\n",
       "      <td>0</td>\n",
       "      <td>0</td>\n",
       "      <td>0</td>\n",
       "      <td>0</td>\n",
       "      <td>0</td>\n",
       "      <td>0</td>\n",
       "    </tr>\n",
       "    <tr>\n",
       "      <th>1</th>\n",
       "      <td>Calendar</td>\n",
       "      <td>2013</td>\n",
       "      <td>120054.05</td>\n",
       "      <td>0</td>\n",
       "      <td>0</td>\n",
       "      <td>0</td>\n",
       "      <td>0</td>\n",
       "      <td>0</td>\n",
       "      <td>0</td>\n",
       "      <td>0</td>\n",
       "      <td>...</td>\n",
       "      <td>0</td>\n",
       "      <td>0</td>\n",
       "      <td>0</td>\n",
       "      <td>0</td>\n",
       "      <td>0</td>\n",
       "      <td>0</td>\n",
       "      <td>0</td>\n",
       "      <td>0</td>\n",
       "      <td>0</td>\n",
       "      <td>0</td>\n",
       "    </tr>\n",
       "    <tr>\n",
       "      <th>2</th>\n",
       "      <td>Calendar</td>\n",
       "      <td>2015</td>\n",
       "      <td>13868.64</td>\n",
       "      <td>0</td>\n",
       "      <td>0</td>\n",
       "      <td>0</td>\n",
       "      <td>0</td>\n",
       "      <td>0</td>\n",
       "      <td>0</td>\n",
       "      <td>0</td>\n",
       "      <td>...</td>\n",
       "      <td>0</td>\n",
       "      <td>0</td>\n",
       "      <td>0</td>\n",
       "      <td>0</td>\n",
       "      <td>0</td>\n",
       "      <td>0</td>\n",
       "      <td>0</td>\n",
       "      <td>0</td>\n",
       "      <td>0</td>\n",
       "      <td>0</td>\n",
       "    </tr>\n",
       "    <tr>\n",
       "      <th>3</th>\n",
       "      <td>Fiscal</td>\n",
       "      <td>2015</td>\n",
       "      <td>3718.50</td>\n",
       "      <td>0</td>\n",
       "      <td>0</td>\n",
       "      <td>0</td>\n",
       "      <td>0</td>\n",
       "      <td>0</td>\n",
       "      <td>0</td>\n",
       "      <td>0</td>\n",
       "      <td>...</td>\n",
       "      <td>0</td>\n",
       "      <td>0</td>\n",
       "      <td>0</td>\n",
       "      <td>0</td>\n",
       "      <td>0</td>\n",
       "      <td>0</td>\n",
       "      <td>0</td>\n",
       "      <td>0</td>\n",
       "      <td>0</td>\n",
       "      <td>0</td>\n",
       "    </tr>\n",
       "    <tr>\n",
       "      <th>4</th>\n",
       "      <td>Fiscal</td>\n",
       "      <td>2014</td>\n",
       "      <td>10128.64</td>\n",
       "      <td>0</td>\n",
       "      <td>0</td>\n",
       "      <td>0</td>\n",
       "      <td>0</td>\n",
       "      <td>0</td>\n",
       "      <td>0</td>\n",
       "      <td>0</td>\n",
       "      <td>...</td>\n",
       "      <td>0</td>\n",
       "      <td>0</td>\n",
       "      <td>0</td>\n",
       "      <td>0</td>\n",
       "      <td>0</td>\n",
       "      <td>0</td>\n",
       "      <td>0</td>\n",
       "      <td>0</td>\n",
       "      <td>0</td>\n",
       "      <td>0</td>\n",
       "    </tr>\n",
       "  </tbody>\n",
       "</table>\n",
       "<p>5 rows × 1327 columns</p>\n",
       "</div>"
      ],
      "text/plain": [
       "  Year Type  Year  Total Compensation  Job_Account Clerk  Job_Accountant I  \\\n",
       "0    Fiscal  2016           159436.65                  0                 0   \n",
       "1  Calendar  2013           120054.05                  0                 0   \n",
       "2  Calendar  2015            13868.64                  0                 0   \n",
       "3    Fiscal  2015             3718.50                  0                 0   \n",
       "4    Fiscal  2014            10128.64                  0                 0   \n",
       "\n",
       "   Job_Accountant II  Job_Accountant II (OCII)  Job_Accountant III  \\\n",
       "0                  0                         0                   0   \n",
       "1                  0                         0                   0   \n",
       "2                  0                         0                   0   \n",
       "3                  0                         0                   0   \n",
       "4                  0                         0                   0   \n",
       "\n",
       "   Job_Accountant III (OCII)  Job_Accountant IV  \\\n",
       "0                          0                  0   \n",
       "1                          0                  0   \n",
       "2                          0                  0   \n",
       "3                          0                  0   \n",
       "4                          0                  0   \n",
       "\n",
       "                    ...                     \\\n",
       "0                   ...                      \n",
       "1                   ...                      \n",
       "2                   ...                      \n",
       "3                   ...                      \n",
       "4                   ...                      \n",
       "\n",
       "   Union_Stationary Engineers, Local 39  \\\n",
       "0                                     0   \n",
       "1                                     0   \n",
       "2                                     0   \n",
       "3                                     0   \n",
       "4                                     0   \n",
       "\n",
       "   Union_Teamsters - Miscellaneous, Local 856  \\\n",
       "0                                           0   \n",
       "1                                           0   \n",
       "2                                           0   \n",
       "3                                           0   \n",
       "4                                           0   \n",
       "\n",
       "   Union_Teamsters - Supervising Nurses, Local 856  \\\n",
       "0                                                0   \n",
       "1                                                0   \n",
       "2                                                0   \n",
       "3                                                0   \n",
       "4                                                0   \n",
       "\n",
       "   Union_Teamsters, Local 853  Union_Theatrical and Stage Employees, Local 16  \\\n",
       "0                           0                                               0   \n",
       "1                           0                                               0   \n",
       "2                           0                                               0   \n",
       "3                           0                                               0   \n",
       "4                           0                                               0   \n",
       "\n",
       "   Union_Transport Workers - Auto Svc Workers, Local 250-A  \\\n",
       "0                                                  0         \n",
       "1                                                  0         \n",
       "2                                                  0         \n",
       "3                                                  0         \n",
       "4                                                  0         \n",
       "\n",
       "   Union_Transport Workers - Fare Inspectors, Local 250-A  \\\n",
       "0                                                  0        \n",
       "1                                                  0        \n",
       "2                                                  0        \n",
       "3                                                  0        \n",
       "4                                                  0        \n",
       "\n",
       "   Union_Transport Workers - Miscellaneous, Local 250-A  \\\n",
       "0                                                  0      \n",
       "1                                                  0      \n",
       "2                                                  0      \n",
       "3                                                  0      \n",
       "4                                                  0      \n",
       "\n",
       "   Union_Transport Workers - Transit Operators, Local 250-A  \\\n",
       "0                                                  0          \n",
       "1                                                  0          \n",
       "2                                                  0          \n",
       "3                                                  0          \n",
       "4                                                  0          \n",
       "\n",
       "   Union_Transportation Workers, Local 200  \n",
       "0                                        0  \n",
       "1                                        0  \n",
       "2                                        0  \n",
       "3                                        0  \n",
       "4                                        0  \n",
       "\n",
       "[5 rows x 1327 columns]"
      ]
     },
     "execution_count": 17,
     "metadata": {},
     "output_type": "execute_result"
    }
   ],
   "source": [
    "extract_columns = ['Job','Job Family','Department','Organization Group', 'Union']\n",
    "\n",
    "_ds = pd.get_dummies(ds, columns=extract_columns, prefix=extract_columns)\n",
    "_ds.head()"
   ]
  },
  {
   "cell_type": "code",
   "execution_count": 18,
   "metadata": {},
   "outputs": [
    {
     "data": {
      "text/html": [
       "<div>\n",
       "<style scoped>\n",
       "    .dataframe tbody tr th:only-of-type {\n",
       "        vertical-align: middle;\n",
       "    }\n",
       "\n",
       "    .dataframe tbody tr th {\n",
       "        vertical-align: top;\n",
       "    }\n",
       "\n",
       "    .dataframe thead th {\n",
       "        text-align: right;\n",
       "    }\n",
       "</style>\n",
       "<table border=\"1\" class=\"dataframe\">\n",
       "  <thead>\n",
       "    <tr style=\"text-align: right;\">\n",
       "      <th></th>\n",
       "      <th>Year Type</th>\n",
       "      <th>Year</th>\n",
       "      <th>Total Compensation</th>\n",
       "      <th>Job_Account Clerk</th>\n",
       "      <th>Job_Accountant I</th>\n",
       "      <th>Job_Accountant II</th>\n",
       "      <th>Job_Accountant II (OCII)</th>\n",
       "      <th>Job_Accountant III</th>\n",
       "      <th>Job_Accountant III (OCII)</th>\n",
       "      <th>Job_Accountant IV</th>\n",
       "      <th>...</th>\n",
       "      <th>Union_Stationary Engineers, Local 39</th>\n",
       "      <th>Union_Teamsters - Miscellaneous, Local 856</th>\n",
       "      <th>Union_Teamsters - Supervising Nurses, Local 856</th>\n",
       "      <th>Union_Teamsters, Local 853</th>\n",
       "      <th>Union_Theatrical and Stage Employees, Local 16</th>\n",
       "      <th>Union_Transport Workers - Auto Svc Workers, Local 250-A</th>\n",
       "      <th>Union_Transport Workers - Fare Inspectors, Local 250-A</th>\n",
       "      <th>Union_Transport Workers - Miscellaneous, Local 250-A</th>\n",
       "      <th>Union_Transport Workers - Transit Operators, Local 250-A</th>\n",
       "      <th>Union_Transportation Workers, Local 200</th>\n",
       "    </tr>\n",
       "  </thead>\n",
       "  <tbody>\n",
       "    <tr>\n",
       "      <th>0</th>\n",
       "      <td>1</td>\n",
       "      <td>2016</td>\n",
       "      <td>159436.65</td>\n",
       "      <td>0</td>\n",
       "      <td>0</td>\n",
       "      <td>0</td>\n",
       "      <td>0</td>\n",
       "      <td>0</td>\n",
       "      <td>0</td>\n",
       "      <td>0</td>\n",
       "      <td>...</td>\n",
       "      <td>0</td>\n",
       "      <td>0</td>\n",
       "      <td>0</td>\n",
       "      <td>0</td>\n",
       "      <td>0</td>\n",
       "      <td>0</td>\n",
       "      <td>0</td>\n",
       "      <td>0</td>\n",
       "      <td>0</td>\n",
       "      <td>0</td>\n",
       "    </tr>\n",
       "    <tr>\n",
       "      <th>1</th>\n",
       "      <td>0</td>\n",
       "      <td>2013</td>\n",
       "      <td>120054.05</td>\n",
       "      <td>0</td>\n",
       "      <td>0</td>\n",
       "      <td>0</td>\n",
       "      <td>0</td>\n",
       "      <td>0</td>\n",
       "      <td>0</td>\n",
       "      <td>0</td>\n",
       "      <td>...</td>\n",
       "      <td>0</td>\n",
       "      <td>0</td>\n",
       "      <td>0</td>\n",
       "      <td>0</td>\n",
       "      <td>0</td>\n",
       "      <td>0</td>\n",
       "      <td>0</td>\n",
       "      <td>0</td>\n",
       "      <td>0</td>\n",
       "      <td>0</td>\n",
       "    </tr>\n",
       "    <tr>\n",
       "      <th>2</th>\n",
       "      <td>0</td>\n",
       "      <td>2015</td>\n",
       "      <td>13868.64</td>\n",
       "      <td>0</td>\n",
       "      <td>0</td>\n",
       "      <td>0</td>\n",
       "      <td>0</td>\n",
       "      <td>0</td>\n",
       "      <td>0</td>\n",
       "      <td>0</td>\n",
       "      <td>...</td>\n",
       "      <td>0</td>\n",
       "      <td>0</td>\n",
       "      <td>0</td>\n",
       "      <td>0</td>\n",
       "      <td>0</td>\n",
       "      <td>0</td>\n",
       "      <td>0</td>\n",
       "      <td>0</td>\n",
       "      <td>0</td>\n",
       "      <td>0</td>\n",
       "    </tr>\n",
       "    <tr>\n",
       "      <th>3</th>\n",
       "      <td>1</td>\n",
       "      <td>2015</td>\n",
       "      <td>3718.50</td>\n",
       "      <td>0</td>\n",
       "      <td>0</td>\n",
       "      <td>0</td>\n",
       "      <td>0</td>\n",
       "      <td>0</td>\n",
       "      <td>0</td>\n",
       "      <td>0</td>\n",
       "      <td>...</td>\n",
       "      <td>0</td>\n",
       "      <td>0</td>\n",
       "      <td>0</td>\n",
       "      <td>0</td>\n",
       "      <td>0</td>\n",
       "      <td>0</td>\n",
       "      <td>0</td>\n",
       "      <td>0</td>\n",
       "      <td>0</td>\n",
       "      <td>0</td>\n",
       "    </tr>\n",
       "    <tr>\n",
       "      <th>4</th>\n",
       "      <td>1</td>\n",
       "      <td>2014</td>\n",
       "      <td>10128.64</td>\n",
       "      <td>0</td>\n",
       "      <td>0</td>\n",
       "      <td>0</td>\n",
       "      <td>0</td>\n",
       "      <td>0</td>\n",
       "      <td>0</td>\n",
       "      <td>0</td>\n",
       "      <td>...</td>\n",
       "      <td>0</td>\n",
       "      <td>0</td>\n",
       "      <td>0</td>\n",
       "      <td>0</td>\n",
       "      <td>0</td>\n",
       "      <td>0</td>\n",
       "      <td>0</td>\n",
       "      <td>0</td>\n",
       "      <td>0</td>\n",
       "      <td>0</td>\n",
       "    </tr>\n",
       "  </tbody>\n",
       "</table>\n",
       "<p>5 rows × 1327 columns</p>\n",
       "</div>"
      ],
      "text/plain": [
       "   Year Type  Year  Total Compensation  Job_Account Clerk  Job_Accountant I  \\\n",
       "0          1  2016           159436.65                  0                 0   \n",
       "1          0  2013           120054.05                  0                 0   \n",
       "2          0  2015            13868.64                  0                 0   \n",
       "3          1  2015             3718.50                  0                 0   \n",
       "4          1  2014            10128.64                  0                 0   \n",
       "\n",
       "   Job_Accountant II  Job_Accountant II (OCII)  Job_Accountant III  \\\n",
       "0                  0                         0                   0   \n",
       "1                  0                         0                   0   \n",
       "2                  0                         0                   0   \n",
       "3                  0                         0                   0   \n",
       "4                  0                         0                   0   \n",
       "\n",
       "   Job_Accountant III (OCII)  Job_Accountant IV  \\\n",
       "0                          0                  0   \n",
       "1                          0                  0   \n",
       "2                          0                  0   \n",
       "3                          0                  0   \n",
       "4                          0                  0   \n",
       "\n",
       "                    ...                     \\\n",
       "0                   ...                      \n",
       "1                   ...                      \n",
       "2                   ...                      \n",
       "3                   ...                      \n",
       "4                   ...                      \n",
       "\n",
       "   Union_Stationary Engineers, Local 39  \\\n",
       "0                                     0   \n",
       "1                                     0   \n",
       "2                                     0   \n",
       "3                                     0   \n",
       "4                                     0   \n",
       "\n",
       "   Union_Teamsters - Miscellaneous, Local 856  \\\n",
       "0                                           0   \n",
       "1                                           0   \n",
       "2                                           0   \n",
       "3                                           0   \n",
       "4                                           0   \n",
       "\n",
       "   Union_Teamsters - Supervising Nurses, Local 856  \\\n",
       "0                                                0   \n",
       "1                                                0   \n",
       "2                                                0   \n",
       "3                                                0   \n",
       "4                                                0   \n",
       "\n",
       "   Union_Teamsters, Local 853  Union_Theatrical and Stage Employees, Local 16  \\\n",
       "0                           0                                               0   \n",
       "1                           0                                               0   \n",
       "2                           0                                               0   \n",
       "3                           0                                               0   \n",
       "4                           0                                               0   \n",
       "\n",
       "   Union_Transport Workers - Auto Svc Workers, Local 250-A  \\\n",
       "0                                                  0         \n",
       "1                                                  0         \n",
       "2                                                  0         \n",
       "3                                                  0         \n",
       "4                                                  0         \n",
       "\n",
       "   Union_Transport Workers - Fare Inspectors, Local 250-A  \\\n",
       "0                                                  0        \n",
       "1                                                  0        \n",
       "2                                                  0        \n",
       "3                                                  0        \n",
       "4                                                  0        \n",
       "\n",
       "   Union_Transport Workers - Miscellaneous, Local 250-A  \\\n",
       "0                                                  0      \n",
       "1                                                  0      \n",
       "2                                                  0      \n",
       "3                                                  0      \n",
       "4                                                  0      \n",
       "\n",
       "   Union_Transport Workers - Transit Operators, Local 250-A  \\\n",
       "0                                                  0          \n",
       "1                                                  0          \n",
       "2                                                  0          \n",
       "3                                                  0          \n",
       "4                                                  0          \n",
       "\n",
       "   Union_Transportation Workers, Local 200  \n",
       "0                                        0  \n",
       "1                                        0  \n",
       "2                                        0  \n",
       "3                                        0  \n",
       "4                                        0  \n",
       "\n",
       "[5 rows x 1327 columns]"
      ]
     },
     "execution_count": 18,
     "metadata": {},
     "output_type": "execute_result"
    }
   ],
   "source": [
    "_ds['Year Type'] = _ds['Year Type'].apply(transform_string_boolen_to_int)\n",
    "_ds.head()"
   ]
  },
  {
   "cell_type": "code",
   "execution_count": 19,
   "metadata": {},
   "outputs": [
    {
     "data": {
      "text/plain": [
       "(291780, 1327)"
      ]
     },
     "execution_count": 19,
     "metadata": {},
     "output_type": "execute_result"
    }
   ],
   "source": [
    "_ds.shape"
   ]
  },
  {
   "cell_type": "code",
   "execution_count": 20,
   "metadata": {},
   "outputs": [
    {
     "data": {
      "text/plain": [
       "uint8      1324\n",
       "int64         2\n",
       "float64       1\n",
       "dtype: int64"
      ]
     },
     "execution_count": 20,
     "metadata": {},
     "output_type": "execute_result"
    }
   ],
   "source": [
    "_ds.dtypes.value_counts()"
   ]
  },
  {
   "cell_type": "code",
   "execution_count": 21,
   "metadata": {},
   "outputs": [],
   "source": [
    "drop_indices = np.random.choice(_ds.index, 191780, replace=False)\n",
    "df_subset = _ds.drop(drop_indices)"
   ]
  },
  {
   "cell_type": "code",
   "execution_count": 22,
   "metadata": {},
   "outputs": [
    {
     "data": {
      "text/plain": [
       "(100000, 1327)"
      ]
     },
     "execution_count": 22,
     "metadata": {},
     "output_type": "execute_result"
    }
   ],
   "source": [
    "df_subset.shape"
   ]
  },
  {
   "cell_type": "code",
   "execution_count": 28,
   "metadata": {},
   "outputs": [],
   "source": [
    "from sklearn.linear_model import ElasticNet, MultiTaskElasticNet\n",
    "from sklearn.metrics import mean_squared_error\n",
    "from sklearn.model_selection import train_test_split\n",
    "from sklearn.model_selection import GridSearchCV"
   ]
  },
  {
   "cell_type": "code",
   "execution_count": 29,
   "metadata": {},
   "outputs": [],
   "source": [
    "X = _ds.drop('Total Compensation',axis=1)\n",
    "y = _ds['Total Compensation']"
   ]
  },
  {
   "cell_type": "code",
   "execution_count": 30,
   "metadata": {},
   "outputs": [],
   "source": [
    "X_train, X_test, y_train, y_test = train_test_split(X, y, test_size=0.33, random_state=42)"
   ]
  },
  {
   "cell_type": "code",
   "execution_count": 31,
   "metadata": {},
   "outputs": [],
   "source": [
    "# Create the hyperparameter grid\n",
    "l1_space = np.linspace(0.5, 1, 5)\n",
    "param_grid = {'l1_ratio': l1_space}"
   ]
  },
  {
   "cell_type": "code",
   "execution_count": 73,
   "metadata": {},
   "outputs": [],
   "source": [
    "# Instantiate the ElasticNet regressor: elastic_net\n",
    "elastic_net = ElasticNet(l1_ratio=1.0)"
   ]
  },
  {
   "cell_type": "code",
   "execution_count": 74,
   "metadata": {},
   "outputs": [],
   "source": [
    "# Setup the GridSearchCV object: gm_cv\n",
    "gm_cv = GridSearchCV(elastic_net, param_grid, cv=2)"
   ]
  },
  {
   "cell_type": "code",
   "execution_count": 75,
   "metadata": {
    "scrolled": true
   },
   "outputs": [
    {
     "name": "stderr",
     "output_type": "stream",
     "text": [
      "/usr/lib64/python2.7/site-packages/sklearn/linear_model/coordinate_descent.py:491: ConvergenceWarning: Objective did not converge. You might want to increase the number of iterations. Fitting data with very small alpha may cause precision problems.\n",
      "  ConvergenceWarning)\n"
     ]
    },
    {
     "data": {
      "text/plain": [
       "ElasticNet(alpha=1.0, copy_X=True, fit_intercept=True, l1_ratio=1.0,\n",
       "      max_iter=1000, normalize=False, positive=False, precompute=False,\n",
       "      random_state=None, selection='cyclic', tol=0.0001, warm_start=False)"
      ]
     },
     "execution_count": 75,
     "metadata": {},
     "output_type": "execute_result"
    }
   ],
   "source": [
    "# Fit it to the training data\n",
    "elastic_net.fit(X_train, y_train)"
   ]
  },
  {
   "cell_type": "code",
   "execution_count": 76,
   "metadata": {},
   "outputs": [],
   "source": [
    "y_pred = elastic_net.predict(X_test)"
   ]
  },
  {
   "cell_type": "code",
   "execution_count": 77,
   "metadata": {},
   "outputs": [],
   "source": [
    "r2 = elastic_net.score(X_test, y_test)"
   ]
  },
  {
   "cell_type": "code",
   "execution_count": 78,
   "metadata": {},
   "outputs": [],
   "source": [
    "mse = mean_squared_error(y_test, y_pred)"
   ]
  },
  {
   "cell_type": "code",
   "execution_count": 79,
   "metadata": {},
   "outputs": [
    {
     "name": "stdout",
     "output_type": "stream",
     "text": [
      "0.5672441193436077\n",
      "1985151453.4774947\n"
     ]
    }
   ],
   "source": [
    "print r2\n",
    "print mse"
   ]
  },
  {
   "cell_type": "code",
   "execution_count": null,
   "metadata": {},
   "outputs": [],
   "source": []
  }
 ],
 "metadata": {
  "kernelspec": {
   "display_name": "Python 2",
   "language": "python",
   "name": "python2"
  },
  "language_info": {
   "codemirror_mode": {
    "name": "ipython",
    "version": 2
   },
   "file_extension": ".py",
   "mimetype": "text/x-python",
   "name": "python",
   "nbconvert_exporter": "python",
   "pygments_lexer": "ipython2",
   "version": "2.7.5"
  }
 },
 "nbformat": 4,
 "nbformat_minor": 2
}
