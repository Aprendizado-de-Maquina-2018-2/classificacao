{
 "cells": [
  {
   "cell_type": "markdown",
   "metadata": {},
   "source": [
    "# Decision Trees"
   ]
  },
  {
   "cell_type": "code",
   "execution_count": 3,
   "metadata": {},
   "outputs": [],
   "source": [
    "import pandas as pd\n",
    "import numpy as np\n",
    "import matplotlib.pyplot as plt\n",
    "import seaborn as sns\n",
    "from sklearn.model_selection import train_test_split\n",
    "from sklearn import tree\n",
    "from sklearn.metrics import classification_report\n",
    "\n",
    "%matplotlib inline "
   ]
  },
  {
   "cell_type": "markdown",
   "metadata": {},
   "source": [
    "## 1. Importando dataset"
   ]
  },
  {
   "cell_type": "code",
   "execution_count": 4,
   "metadata": {},
   "outputs": [
    {
     "data": {
      "text/html": [
       "<div>\n",
       "<style scoped>\n",
       "    .dataframe tbody tr th:only-of-type {\n",
       "        vertical-align: middle;\n",
       "    }\n",
       "\n",
       "    .dataframe tbody tr th {\n",
       "        vertical-align: top;\n",
       "    }\n",
       "\n",
       "    .dataframe thead th {\n",
       "        text-align: right;\n",
       "    }\n",
       "</style>\n",
       "<table border=\"1\" class=\"dataframe\">\n",
       "  <thead>\n",
       "    <tr style=\"text-align: right;\">\n",
       "      <th></th>\n",
       "      <th>age</th>\n",
       "      <th>default</th>\n",
       "      <th>balance</th>\n",
       "      <th>housing</th>\n",
       "      <th>loan</th>\n",
       "      <th>day</th>\n",
       "      <th>month</th>\n",
       "      <th>campaign</th>\n",
       "      <th>pdays</th>\n",
       "      <th>previous</th>\n",
       "      <th>...</th>\n",
       "      <th>marital_divorced</th>\n",
       "      <th>marital_married</th>\n",
       "      <th>marital_single</th>\n",
       "      <th>education_primary</th>\n",
       "      <th>education_secondary</th>\n",
       "      <th>education_tertiary</th>\n",
       "      <th>education_unknown</th>\n",
       "      <th>contact_cellular</th>\n",
       "      <th>contact_telephone</th>\n",
       "      <th>contact_unknown</th>\n",
       "    </tr>\n",
       "  </thead>\n",
       "  <tbody>\n",
       "    <tr>\n",
       "      <th>0</th>\n",
       "      <td>58</td>\n",
       "      <td>0</td>\n",
       "      <td>2143</td>\n",
       "      <td>1</td>\n",
       "      <td>0</td>\n",
       "      <td>5</td>\n",
       "      <td>5</td>\n",
       "      <td>1</td>\n",
       "      <td>-1</td>\n",
       "      <td>0</td>\n",
       "      <td>...</td>\n",
       "      <td>0</td>\n",
       "      <td>1</td>\n",
       "      <td>0</td>\n",
       "      <td>0</td>\n",
       "      <td>0</td>\n",
       "      <td>1</td>\n",
       "      <td>0</td>\n",
       "      <td>0</td>\n",
       "      <td>0</td>\n",
       "      <td>1</td>\n",
       "    </tr>\n",
       "    <tr>\n",
       "      <th>1</th>\n",
       "      <td>44</td>\n",
       "      <td>0</td>\n",
       "      <td>29</td>\n",
       "      <td>1</td>\n",
       "      <td>0</td>\n",
       "      <td>5</td>\n",
       "      <td>5</td>\n",
       "      <td>1</td>\n",
       "      <td>-1</td>\n",
       "      <td>0</td>\n",
       "      <td>...</td>\n",
       "      <td>0</td>\n",
       "      <td>0</td>\n",
       "      <td>1</td>\n",
       "      <td>0</td>\n",
       "      <td>1</td>\n",
       "      <td>0</td>\n",
       "      <td>0</td>\n",
       "      <td>0</td>\n",
       "      <td>0</td>\n",
       "      <td>1</td>\n",
       "    </tr>\n",
       "    <tr>\n",
       "      <th>2</th>\n",
       "      <td>33</td>\n",
       "      <td>0</td>\n",
       "      <td>2</td>\n",
       "      <td>1</td>\n",
       "      <td>1</td>\n",
       "      <td>5</td>\n",
       "      <td>5</td>\n",
       "      <td>1</td>\n",
       "      <td>-1</td>\n",
       "      <td>0</td>\n",
       "      <td>...</td>\n",
       "      <td>0</td>\n",
       "      <td>1</td>\n",
       "      <td>0</td>\n",
       "      <td>0</td>\n",
       "      <td>1</td>\n",
       "      <td>0</td>\n",
       "      <td>0</td>\n",
       "      <td>0</td>\n",
       "      <td>0</td>\n",
       "      <td>1</td>\n",
       "    </tr>\n",
       "    <tr>\n",
       "      <th>3</th>\n",
       "      <td>47</td>\n",
       "      <td>0</td>\n",
       "      <td>1506</td>\n",
       "      <td>1</td>\n",
       "      <td>0</td>\n",
       "      <td>5</td>\n",
       "      <td>5</td>\n",
       "      <td>1</td>\n",
       "      <td>-1</td>\n",
       "      <td>0</td>\n",
       "      <td>...</td>\n",
       "      <td>0</td>\n",
       "      <td>1</td>\n",
       "      <td>0</td>\n",
       "      <td>0</td>\n",
       "      <td>0</td>\n",
       "      <td>0</td>\n",
       "      <td>1</td>\n",
       "      <td>0</td>\n",
       "      <td>0</td>\n",
       "      <td>1</td>\n",
       "    </tr>\n",
       "    <tr>\n",
       "      <th>4</th>\n",
       "      <td>33</td>\n",
       "      <td>0</td>\n",
       "      <td>1</td>\n",
       "      <td>0</td>\n",
       "      <td>0</td>\n",
       "      <td>5</td>\n",
       "      <td>5</td>\n",
       "      <td>1</td>\n",
       "      <td>-1</td>\n",
       "      <td>0</td>\n",
       "      <td>...</td>\n",
       "      <td>0</td>\n",
       "      <td>0</td>\n",
       "      <td>1</td>\n",
       "      <td>0</td>\n",
       "      <td>0</td>\n",
       "      <td>0</td>\n",
       "      <td>1</td>\n",
       "      <td>0</td>\n",
       "      <td>0</td>\n",
       "      <td>1</td>\n",
       "    </tr>\n",
       "  </tbody>\n",
       "</table>\n",
       "<p>5 rows × 34 columns</p>\n",
       "</div>"
      ],
      "text/plain": [
       "   age  default  balance  housing  loan  day  month  campaign  pdays  \\\n",
       "0   58        0     2143        1     0    5      5         1     -1   \n",
       "1   44        0       29        1     0    5      5         1     -1   \n",
       "2   33        0        2        1     1    5      5         1     -1   \n",
       "3   47        0     1506        1     0    5      5         1     -1   \n",
       "4   33        0        1        0     0    5      5         1     -1   \n",
       "\n",
       "   previous       ...         marital_divorced  marital_married  \\\n",
       "0         0       ...                        0                1   \n",
       "1         0       ...                        0                0   \n",
       "2         0       ...                        0                1   \n",
       "3         0       ...                        0                1   \n",
       "4         0       ...                        0                0   \n",
       "\n",
       "   marital_single  education_primary  education_secondary  education_tertiary  \\\n",
       "0               0                  0                    0                   1   \n",
       "1               1                  0                    1                   0   \n",
       "2               0                  0                    1                   0   \n",
       "3               0                  0                    0                   0   \n",
       "4               1                  0                    0                   0   \n",
       "\n",
       "   education_unknown  contact_cellular  contact_telephone  contact_unknown  \n",
       "0                  0                 0                  0                1  \n",
       "1                  0                 0                  0                1  \n",
       "2                  0                 0                  0                1  \n",
       "3                  1                 0                  0                1  \n",
       "4                  1                 0                  0                1  \n",
       "\n",
       "[5 rows x 34 columns]"
      ]
     },
     "execution_count": 4,
     "metadata": {},
     "output_type": "execute_result"
    }
   ],
   "source": [
    "dataset = pd.read_csv('eda/dataset.csv')\n",
    "dataset.head()"
   ]
  },
  {
   "cell_type": "markdown",
   "metadata": {},
   "source": [
    "## 2. Preparando dataset\n",
    "\n",
    "1. Remover atributo target do dataset X (usando drop) \n",
    "2. Obter coluna target do dataset\n",
    "3. Separar dados de treino de dados de teste (nesse caso 77% para treino e 33% para teste)"
   ]
  },
  {
   "cell_type": "code",
   "execution_count": 5,
   "metadata": {},
   "outputs": [],
   "source": [
    "X = dataset.drop('aceitaram',axis=1)\n",
    "y = dataset['aceitaram']\n",
    "X_train, X_test, y_train, y_test = train_test_split(X.values,y,test_size=0.33,random_state=42)"
   ]
  },
  {
   "cell_type": "markdown",
   "metadata": {},
   "source": [
    "## 3. Criando modelo\n",
    "1. Definir o método de aprendizagem (árvore de decisões)\n",
    "2. Definir hiperparâmetros (inicialmente default)\n",
    "3. \"Ajustar\" modelo (.fit) com os dados de treino"
   ]
  },
  {
   "cell_type": "code",
   "execution_count": 6,
   "metadata": {},
   "outputs": [],
   "source": [
    "clf = tree.DecisionTreeClassifier()\n",
    "clf = clf.fit(X_train, y_train)"
   ]
  },
  {
   "cell_type": "markdown",
   "metadata": {},
   "source": [
    "## 4. Testando modelo\n",
    "1. Com o modelo criado, a partir dos dados de treino, pode-se testar o modelo com os dados de teste\n",
    "2. Aplicando os dados de teste é possível verificar o desempenho do modelo\n",
    "    * **precision**: A precisão é a capacidade de um classificador de não rotular uma instância positiva que seja realmente negativa.\"Para todas as instâncias classificadas como positivas, qual porcentagem estava correta?\"  **precision = tp/(tp+fp)**\n",
    "    * **recall**: É a capacidade de um classificador para encontrar todas as instâncias positivas. Para cada classe, é definida como a proporção de verdadeiros positivos para a soma de verdadeiros positivos e falsos negativos. \"Para todas as instâncias que foram realmente positivas, qual porcentagem foi classificada corretamente?\" **recall = tp/(tp+fn)**\n",
    "    * **f1-score**: É uma média harmônica ponderada de _precision_ e _recall_ de tal forma que o melhor escore é 1,0 e o pior é 0,0. De um modo geral, as pontuações F1 são inferiores às medidas de precisão.\n",
    "    * **support**:Suporte é o número de ocorrências reais da classe no conjunto de dados especificado. \n",
    "3. Verificando desempenho:\n",
    "    * **precision**: Para a classe de obervações sim, o classificador obteve uma precisão de 91%. Para a classe de pessoas que responderam não, o classificador obteve uma precisão de 28%. O total de observações de teste que disseram não está em torno de 88% enquanto os que aceitaram, disseram sim, é de apenas 12%. O Resultado da precisão do modelo, sem nenhuma variação de parâmetros, ou seja, com os parâmetros default do modelo é de 83%.\n",
    "    * **recall**: De todas as observações que tiveram predição dita como \"Aceita\" 32% foram mesmo aceitas, da mesma forma, das observações que tiverão predição como \"Recusada\" 89% foram mesmo recusadas. Resultando em 82% do total realmente era o que foi predita pelo modelo."
   ]
  },
  {
   "cell_type": "code",
   "execution_count": 7,
   "metadata": {},
   "outputs": [
    {
     "data": {
      "text/html": [
       "<div>\n",
       "<style scoped>\n",
       "    .dataframe tbody tr th:only-of-type {\n",
       "        vertical-align: middle;\n",
       "    }\n",
       "\n",
       "    .dataframe tbody tr th {\n",
       "        vertical-align: top;\n",
       "    }\n",
       "\n",
       "    .dataframe thead th {\n",
       "        text-align: right;\n",
       "    }\n",
       "</style>\n",
       "<table border=\"1\" class=\"dataframe\">\n",
       "  <thead>\n",
       "    <tr style=\"text-align: right;\">\n",
       "      <th></th>\n",
       "      <th>Predicted Not Accept</th>\n",
       "      <th>Predicted Accept</th>\n",
       "    </tr>\n",
       "  </thead>\n",
       "  <tbody>\n",
       "    <tr>\n",
       "      <th>True Not Accept</th>\n",
       "      <td>11719</td>\n",
       "      <td>1415</td>\n",
       "    </tr>\n",
       "    <tr>\n",
       "      <th>True Accept</th>\n",
       "      <td>1225</td>\n",
       "      <td>561</td>\n",
       "    </tr>\n",
       "  </tbody>\n",
       "</table>\n",
       "</div>"
      ],
      "text/plain": [
       "                 Predicted Not Accept  Predicted Accept\n",
       "True Not Accept                 11719              1415\n",
       "True Accept                      1225               561"
      ]
     },
     "execution_count": 7,
     "metadata": {},
     "output_type": "execute_result"
    }
   ],
   "source": [
    "y_predict = clf.predict(X_test)\n",
    "from sklearn.metrics import confusion_matrix\n",
    "\n",
    "pd.DataFrame(\n",
    "    confusion_matrix(y_test, y_predict),\n",
    "    columns=['Predicted Not Accept', 'Predicted Accept'],\n",
    "    index=['True Not Accept', 'True Accept']\n",
    ")"
   ]
  },
  {
   "cell_type": "code",
   "execution_count": 8,
   "metadata": {},
   "outputs": [
    {
     "name": "stdout",
     "output_type": "stream",
     "text": [
      "              precision    recall  f1-score   support\n",
      "\n",
      "   Recusaram       0.91      0.89      0.90     13134\n",
      "   Aceitaram       0.28      0.31      0.30      1786\n",
      "\n",
      "   micro avg       0.82      0.82      0.82     14920\n",
      "   macro avg       0.59      0.60      0.60     14920\n",
      "weighted avg       0.83      0.82      0.83     14920\n",
      "\n",
      "0.8230563002680965\n"
     ]
    }
   ],
   "source": [
    "print(classification_report(y_test, y_predict,target_names=['Recusaram','Aceitaram']))\n",
    "from sklearn.metrics import accuracy_score\n",
    "\n",
    "print(accuracy_score(y_test, y_predict))"
   ]
  },
  {
   "cell_type": "markdown",
   "metadata": {},
   "source": [
    "## 5. Exibindo Árvore de Decisões\n",
    "1. Exibir árvore a partir de graphviz\n",
    "** É necessário a instalação do pacote graphviz **\n",
    "> sudo apt-get install graphviz"
   ]
  },
  {
   "cell_type": "code",
   "execution_count": 9,
   "metadata": {},
   "outputs": [],
   "source": [
    "import graphviz \n",
    "dot_data = tree.export_graphviz(clf, out_file=None, \n",
    "                         feature_names=X.columns.values.tolist(),  \n",
    "                         class_names=['sim', 'não'],  \n",
    "                         filled=True, rounded=True,  \n",
    "                         special_characters=True)\n",
    "\n",
    "graph = graphviz.Source(dot_data)  "
   ]
  },
  {
   "cell_type": "code",
   "execution_count": 10,
   "metadata": {},
   "outputs": [],
   "source": [
    "# graph"
   ]
  },
  {
   "cell_type": "markdown",
   "metadata": {},
   "source": [
    "## 6. Variando hiperparâmetros\n",
    "1. Variação de parâmetros:\n",
    "    * **criterion**: Pode ser \"gini\", para impurezas Gini, e \"entropy\", para ganho de informação.\n",
    "    * **min_samples_leaf**: Indica o mínimo de objetos requeridos em um nó folha.\n",
    "    * **min_samples_split**: Indica o número mínimo de objetos necessários para dividir um nó interno.\n",
    "    * **max_depth**: Controla a profundidade máxima da árvore, se \"None\" aumentará a árvore até que todas as folhas fiquem puras ou até que todas as folhas contenham menos de min_samples_split."
   ]
  },
  {
   "cell_type": "code",
   "execution_count": 11,
   "metadata": {},
   "outputs": [],
   "source": [
    "clf = tree.DecisionTreeClassifier(criterion='gini',\n",
    "                                  min_samples_leaf=5,\n",
    "                                  min_samples_split=5,\n",
    "                                  max_depth=None)\n",
    "clf = clf.fit(X_train, y_train)"
   ]
  },
  {
   "cell_type": "markdown",
   "metadata": {},
   "source": [
    "## 7. Verificando desempenho com hiperparâmetros modificados"
   ]
  },
  {
   "cell_type": "code",
   "execution_count": 12,
   "metadata": {},
   "outputs": [
    {
     "data": {
      "text/html": [
       "<div>\n",
       "<style scoped>\n",
       "    .dataframe tbody tr th:only-of-type {\n",
       "        vertical-align: middle;\n",
       "    }\n",
       "\n",
       "    .dataframe tbody tr th {\n",
       "        vertical-align: top;\n",
       "    }\n",
       "\n",
       "    .dataframe thead th {\n",
       "        text-align: right;\n",
       "    }\n",
       "</style>\n",
       "<table border=\"1\" class=\"dataframe\">\n",
       "  <thead>\n",
       "    <tr style=\"text-align: right;\">\n",
       "      <th></th>\n",
       "      <th>Predicted Not Accept</th>\n",
       "      <th>Predicted Accept</th>\n",
       "    </tr>\n",
       "  </thead>\n",
       "  <tbody>\n",
       "    <tr>\n",
       "      <th>True Not Accept</th>\n",
       "      <td>12362</td>\n",
       "      <td>772</td>\n",
       "    </tr>\n",
       "    <tr>\n",
       "      <th>True Accept</th>\n",
       "      <td>1301</td>\n",
       "      <td>485</td>\n",
       "    </tr>\n",
       "  </tbody>\n",
       "</table>\n",
       "</div>"
      ],
      "text/plain": [
       "                 Predicted Not Accept  Predicted Accept\n",
       "True Not Accept                 12362               772\n",
       "True Accept                      1301               485"
      ]
     },
     "execution_count": 12,
     "metadata": {},
     "output_type": "execute_result"
    }
   ],
   "source": [
    "\n",
    "y_predict = clf.predict(X_test)\n",
    "pd.DataFrame(\n",
    "    confusion_matrix(y_test, y_predict),\n",
    "    columns=['Predicted Not Accept', 'Predicted Accept'],\n",
    "    index=['True Not Accept', 'True Accept']\n",
    ")"
   ]
  },
  {
   "cell_type": "code",
   "execution_count": 13,
   "metadata": {},
   "outputs": [
    {
     "name": "stdout",
     "output_type": "stream",
     "text": [
      "              precision    recall  f1-score   support\n",
      "\n",
      "   Recusaram       0.90      0.94      0.92     13134\n",
      "   Aceitaram       0.39      0.27      0.32      1786\n",
      "\n",
      "   micro avg       0.86      0.86      0.86     14920\n",
      "   macro avg       0.65      0.61      0.62     14920\n",
      "weighted avg       0.84      0.86      0.85     14920\n",
      "\n"
     ]
    }
   ],
   "source": [
    "print(classification_report(y_test, y_predict,target_names=['Recusaram','Aceitaram']))"
   ]
  },
  {
   "cell_type": "code",
   "execution_count": 14,
   "metadata": {},
   "outputs": [],
   "source": [
    "dot_data = tree.export_graphviz(clf, out_file=None, \n",
    "                         feature_names=X.columns.values.tolist(),  \n",
    "                         class_names=['sim', 'não'],  \n",
    "                         filled=True, rounded=True,  \n",
    "                         special_characters=True)\n",
    "\n",
    "graph = graphviz.Source(dot_data) "
   ]
  },
  {
   "cell_type": "code",
   "execution_count": 15,
   "metadata": {},
   "outputs": [],
   "source": [
    "# graph"
   ]
  },
  {
   "cell_type": "code",
   "execution_count": 18,
   "metadata": {},
   "outputs": [],
   "source": [
    "report_precision = []\n",
    "\n",
    "for index in range(1, 34):\n",
    "    clf = tree.DecisionTreeClassifier(criterion='gini',\n",
    "                                  min_samples_leaf=5,\n",
    "                                  min_samples_split=5,\n",
    "                                  max_depth=index)\n",
    "    clf = clf.fit(X_train, y_train) \n",
    "    report_precision.append(classification_report(y_test, y_predict, output_dict=True, target_names=['Recusaram','Aceitaram']))"
   ]
  },
  {
   "cell_type": "code",
   "execution_count": 22,
   "metadata": {},
   "outputs": [
    {
     "data": {
      "text/plain": [
       "{'f1-score': 0.6207024856778188,\n",
       " 'precision': 0.6453093154802403,\n",
       " 'recall': 0.6063889043780101,\n",
       " 'support': 14920}"
      ]
     },
     "execution_count": 22,
     "metadata": {},
     "output_type": "execute_result"
    }
   ],
   "source": [
    "report_precision[0]['macro avg']"
   ]
  }
 ],
 "metadata": {
  "kernelspec": {
   "display_name": "Python 3",
   "language": "python",
   "name": "python3"
  },
  "language_info": {
   "codemirror_mode": {
    "name": "ipython",
    "version": 3
   },
   "file_extension": ".py",
   "mimetype": "text/x-python",
   "name": "python",
   "nbconvert_exporter": "python",
   "pygments_lexer": "ipython3",
   "version": "3.5.3"
  }
 },
 "nbformat": 4,
 "nbformat_minor": 2
}
